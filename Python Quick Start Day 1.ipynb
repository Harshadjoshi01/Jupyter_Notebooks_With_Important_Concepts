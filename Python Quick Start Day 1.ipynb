{
 "cells": [
  {
   "cell_type": "markdown",
   "metadata": {},
   "source": [
    "##  Arithmetic operations(+,-,*,/,//,%)\n"
   ]
  },
  {
   "cell_type": "code",
   "execution_count": 1,
   "metadata": {},
   "outputs": [
    {
     "data": {
      "text/plain": [
       "15"
      ]
     },
     "execution_count": 1,
     "metadata": {},
     "output_type": "execute_result"
    }
   ],
   "source": [
    "#Addition\n",
    "7+8"
   ]
  },
  {
   "cell_type": "code",
   "execution_count": 2,
   "metadata": {},
   "outputs": [
    {
     "data": {
      "text/plain": [
       "-1"
      ]
     },
     "execution_count": 2,
     "metadata": {},
     "output_type": "execute_result"
    }
   ],
   "source": [
    "#Subtraction\n",
    "8-9"
   ]
  },
  {
   "cell_type": "code",
   "execution_count": 3,
   "metadata": {},
   "outputs": [
    {
     "data": {
      "text/plain": [
       "16"
      ]
     },
     "execution_count": 3,
     "metadata": {},
     "output_type": "execute_result"
    }
   ],
   "source": [
    "#Multiplication\n",
    "8*2"
   ]
  },
  {
   "cell_type": "code",
   "execution_count": 4,
   "metadata": {},
   "outputs": [
    {
     "data": {
      "text/plain": [
       "2.5"
      ]
     },
     "execution_count": 4,
     "metadata": {},
     "output_type": "execute_result"
    }
   ],
   "source": [
    "#Division (/)\n",
    "5/2\n"
   ]
  },
  {
   "cell_type": "code",
   "execution_count": 5,
   "metadata": {},
   "outputs": [
    {
     "data": {
      "text/plain": [
       "2"
      ]
     },
     "execution_count": 5,
     "metadata": {},
     "output_type": "execute_result"
    }
   ],
   "source": [
    "#Floor Division (//)\n",
    "5//2\n"
   ]
  },
  {
   "cell_type": "code",
   "execution_count": 7,
   "metadata": {},
   "outputs": [
    {
     "data": {
      "text/plain": [
       "1"
      ]
     },
     "execution_count": 7,
     "metadata": {},
     "output_type": "execute_result"
    }
   ],
   "source": [
    "#Modulo(r)\n",
    "5%2"
   ]
  },
  {
   "cell_type": "code",
   "execution_count": 9,
   "metadata": {},
   "outputs": [
    {
     "data": {
      "text/plain": [
       "2.0"
      ]
     },
     "execution_count": 9,
     "metadata": {},
     "output_type": "execute_result"
    }
   ],
   "source": [
    "#Power of (e.g square root)\n",
    "4**(0.5)"
   ]
  },
  {
   "cell_type": "code",
   "execution_count": 11,
   "metadata": {},
   "outputs": [
    {
     "data": {
      "text/plain": [
       "-7.0"
      ]
     },
     "execution_count": 11,
     "metadata": {},
     "output_type": "execute_result"
    }
   ],
   "source": [
    "#Equations (order of operations matters)\n",
    "(2+3)-4*3/1      #div mul add sub\n",
    "\n"
   ]
  },
  {
   "cell_type": "markdown",
   "metadata": {},
   "source": [
    "### Logical Operators"
   ]
  },
  {
   "cell_type": "code",
   "execution_count": 15,
   "metadata": {},
   "outputs": [
    {
     "name": "stdout",
     "output_type": "stream",
     "text": [
      "True\n"
     ]
    }
   ],
   "source": [
    "# and or not\n",
    "a = False\n",
    "b = True\n",
    "print(not b)"
   ]
  },
  {
   "cell_type": "markdown",
   "metadata": {},
   "source": [
    "### Comparision Operators"
   ]
  },
  {
   "cell_type": "code",
   "execution_count": 18,
   "metadata": {},
   "outputs": [
    {
     "data": {
      "text/plain": [
       "True"
      ]
     },
     "execution_count": 18,
     "metadata": {},
     "output_type": "execute_result"
    }
   ],
   "source": [
    "# == != <>  >= <=\n",
    "\n",
    "a = 2\n",
    "b = 1\n",
    "a != b"
   ]
  },
  {
   "cell_type": "markdown",
   "metadata": {},
   "source": [
    "## Need of variables !"
   ]
  },
  {
   "cell_type": "code",
   "execution_count": 19,
   "metadata": {},
   "outputs": [
    {
     "name": "stdout",
     "output_type": "stream",
     "text": [
      "31.0\n"
     ]
    }
   ],
   "source": [
    "# write a program for BMI calculator (without proper variable naming convention)\n",
    "a = 70\n",
    "b =1.5\n",
    "c = a // (b**2)\n",
    "print(c)"
   ]
  },
  {
   "cell_type": "code",
   "execution_count": 20,
   "metadata": {},
   "outputs": [
    {
     "name": "stdout",
     "output_type": "stream",
     "text": [
      "31.0\n"
     ]
    }
   ],
   "source": [
    "# write a program for BMI calulator (with proper variable naming convention)\n",
    "weight = 70\n",
    "height =1.5\n",
    "body_mass_index = weight//(height**2)\n",
    "print(body_mass_index)"
   ]
  },
  {
   "cell_type": "markdown",
   "metadata": {},
   "source": [
    "## Dynamic Typing , Variable reassignment, Type of Variable, Type Casting"
   ]
  },
  {
   "cell_type": "code",
   "execution_count": 23,
   "metadata": {},
   "outputs": [],
   "source": [
    "#Dynamic Typing\n",
    "#Java\n",
    "int num = 4;\n",
    "n = num + 5;\n",
    "sout(n)\n",
    "\n",
    "#Python\n",
    "num = 4\n",
    "n = num + 5\n",
    "print(n)"
   ]
  },
  {
   "cell_type": "code",
   "execution_count": 22,
   "metadata": {},
   "outputs": [],
   "source": [
    "#Variable Reassignment(+=, -=, *=, /=)\n",
    "a = 4\n",
    "a += 1"
   ]
  },
  {
   "cell_type": "code",
   "execution_count": 24,
   "metadata": {},
   "outputs": [
    {
     "data": {
      "text/plain": [
       "list"
      ]
     },
     "execution_count": 24,
     "metadata": {},
     "output_type": "execute_result"
    }
   ],
   "source": [
    "#Type of variable\n",
    "type([1,2])"
   ]
  },
  {
   "cell_type": "code",
   "execution_count": 28,
   "metadata": {},
   "outputs": [
    {
     "data": {
      "text/plain": [
       "float"
      ]
     },
     "execution_count": 28,
     "metadata": {},
     "output_type": "execute_result"
    }
   ],
   "source": [
    "#Type Casting\n",
    "digit = 7\n",
    "str_digit = str(digit)\n",
    "float_digit = float(str_digit)\n",
    "type(float_digit)"
   ]
  },
  {
   "cell_type": "markdown",
   "metadata": {},
   "source": [
    "## Creating and Printing Strings"
   ]
  },
  {
   "cell_type": "code",
   "execution_count": 29,
   "metadata": {},
   "outputs": [
    {
     "data": {
      "text/plain": [
       "'developers hunt 2021'"
      ]
     },
     "execution_count": 29,
     "metadata": {},
     "output_type": "execute_result"
    }
   ],
   "source": [
    "#using single quote\n",
    "'developers hunt 2021'"
   ]
  },
  {
   "cell_type": "code",
   "execution_count": 30,
   "metadata": {},
   "outputs": [
    {
     "data": {
      "text/plain": [
       "'Myself Harshad Joshi'"
      ]
     },
     "execution_count": 30,
     "metadata": {},
     "output_type": "execute_result"
    }
   ],
   "source": [
    "#using double quotes\n",
    "\"Myself Harshad Joshi\""
   ]
  },
  {
   "cell_type": "code",
   "execution_count": 33,
   "metadata": {},
   "outputs": [
    {
     "name": "stdout",
     "output_type": "stream",
     "text": [
      "I'am Harsad\n"
     ]
    }
   ],
   "source": [
    "#using both single and double quates\n",
    "s = \"I'am Harsad\"\n",
    "print(s)"
   ]
  },
  {
   "cell_type": "code",
   "execution_count": 34,
   "metadata": {},
   "outputs": [
    {
     "name": "stdout",
     "output_type": "stream",
     "text": [
      "Harshad\n",
      "    Rohit\n",
      "    Vikas\n"
     ]
    }
   ],
   "source": [
    "#multiline strings\n",
    "t = '''Harshad\n",
    "    Rohit\n",
    "    Vikas'''\n",
    "print(t)"
   ]
  },
  {
   "cell_type": "code",
   "execution_count": 36,
   "metadata": {},
   "outputs": [
    {
     "name": "stdout",
     "output_type": "stream",
     "text": [
      "Harshad Joshi I am competitive programmer\n"
     ]
    }
   ],
   "source": [
    "#String concatenation\n",
    "my_name = \"Harshad Joshi\"\n",
    "skill = \" I am competitive programmer\"\n",
    "res = my_name + skill\n",
    "print(res)"
   ]
  },
  {
   "cell_type": "code",
   "execution_count": 37,
   "metadata": {},
   "outputs": [
    {
     "name": "stdout",
     "output_type": "stream",
     "text": [
      "Name: \tHarshad Joshi\n",
      "Skill: \t I am competitive programmer\n"
     ]
    }
   ],
   "source": [
    "#Escape Character(\\', \\\\, \\n, \\t...)\n",
    "my_name = \"Harshad Joshi\"\n",
    "skill = \" I am competitive programmer\"\n",
    "new_line = \"\\n\"\n",
    "tab = \"\\t\"\n",
    "res =\"Name: \"+ tab + my_name + new_line + \"Skill: \" + tab + skill\n",
    "print(res)"
   ]
  },
  {
   "cell_type": "code",
   "execution_count": 39,
   "metadata": {
    "scrolled": true
   },
   "outputs": [
    {
     "name": "stdout",
     "output_type": "stream",
     "text": [
      "Welcome to grcsdevelopers club  Developers Hunt\n",
      "\n"
     ]
    }
   ],
   "source": [
    "#print function in python\n",
    "print(\"Welcome to grcsdevelopers club \", \"Developers Hunt\", end = \"\\n\\n\")"
   ]
  },
  {
   "cell_type": "code",
   "execution_count": 41,
   "metadata": {},
   "outputs": [
    {
     "name": "stdout",
     "output_type": "stream",
     "text": [
      "What is your name: Harshad\n",
      "Skill: python\n",
      "----------------------------------------------------------------\n",
      "\t\tWelcome To Developers Hunt 2021\n",
      "\t\tHarshad\n",
      "\t\tpython\n",
      "----------------------------------------------------------------\n"
     ]
    }
   ],
   "source": [
    "#Taking user input and printing\n",
    "my_name = input(\"What is your name: \")\n",
    "skill = input(\"Skill: \")\n",
    "new_line = \"\\n\"\n",
    "tab = \"\\t\\t\"\n",
    "formating = new_line + tab\n",
    "border = \"----------------------------------------------------------------\"\n",
    "msg = border + formating +  \"Welcome To Developers Hunt 2021\" + formating + my_name + formating + skill + new_line + border\n",
    "print(msg)"
   ]
  },
  {
   "cell_type": "markdown",
   "metadata": {},
   "source": [
    "## String Properties and Methods"
   ]
  },
  {
   "cell_type": "markdown",
   "metadata": {},
   "source": [
    "                          P  Y  T  H  O  N\n",
    "     Forward indexing     0  1  2  3  4  5\n",
    "     Backward indexing   -6 -5 -4 -3 -2 -1"
   ]
  },
  {
   "cell_type": "code",
   "execution_count": 45,
   "metadata": {},
   "outputs": [
    {
     "name": "stdout",
     "output_type": "stream",
     "text": [
      "y\n"
     ]
    }
   ],
   "source": [
    "#string Indexing (We use brackets [] after an object to call its index. \n",
    "# We should also note that indexing starts at 0 for Python)\n",
    "s = \"python\"\n",
    "print(s[1])"
   ]
  },
  {
   "cell_type": "code",
   "execution_count": 46,
   "metadata": {},
   "outputs": [
    {
     "ename": "TypeError",
     "evalue": "'str' object does not support item assignment",
     "output_type": "error",
     "traceback": [
      "\u001b[1;31m---------------------------------------------------------------------------\u001b[0m",
      "\u001b[1;31mTypeError\u001b[0m                                 Traceback (most recent call last)",
      "\u001b[1;32m<ipython-input-46-b6ebdb2a44b8>\u001b[0m in \u001b[0;36m<module>\u001b[1;34m\u001b[0m\n\u001b[0;32m      1\u001b[0m \u001b[1;31m#mutablity of string\u001b[0m\u001b[1;33m\u001b[0m\u001b[1;33m\u001b[0m\u001b[1;33m\u001b[0m\u001b[0m\n\u001b[0;32m      2\u001b[0m \u001b[0mst\u001b[0m \u001b[1;33m=\u001b[0m \u001b[1;34m\"python\"\u001b[0m\u001b[1;33m\u001b[0m\u001b[1;33m\u001b[0m\u001b[0m\n\u001b[1;32m----> 3\u001b[1;33m \u001b[0mst\u001b[0m\u001b[1;33m[\u001b[0m\u001b[1;36m1\u001b[0m\u001b[1;33m]\u001b[0m \u001b[1;33m=\u001b[0m \u001b[1;34m\"r\"\u001b[0m\u001b[1;33m\u001b[0m\u001b[1;33m\u001b[0m\u001b[0m\n\u001b[0m\u001b[0;32m      4\u001b[0m \u001b[0mprint\u001b[0m\u001b[1;33m(\u001b[0m\u001b[0mst\u001b[0m\u001b[1;33m)\u001b[0m\u001b[1;33m\u001b[0m\u001b[1;33m\u001b[0m\u001b[0m\n",
      "\u001b[1;31mTypeError\u001b[0m: 'str' object does not support item assignment"
     ]
    }
   ],
   "source": [
    "#mutablity of string\n",
    "st = \"python\"\n",
    "st[1] = \"r\"\n",
    "print(st)"
   ]
  },
  {
   "cell_type": "code",
   "execution_count": 53,
   "metadata": {},
   "outputs": [
    {
     "name": "stdout",
     "output_type": "stream",
     "text": [
      "nohtyp\n"
     ]
    }
   ],
   "source": [
    "#string Slicing\n",
    "#We can use a ':' to perform *slicing* which grabs everything up to a designated point\n",
    "st = \"python\"\n",
    "print(st[::-1])"
   ]
  },
  {
   "cell_type": "code",
   "execution_count": 3,
   "metadata": {},
   "outputs": [
    {
     "name": "stdout",
     "output_type": "stream",
     "text": [
      "15\n",
      "DEVELOPERS HUNT\n",
      "developers hunt\n",
      "False\n",
      "D  e  v  e  l  o  p  e  r  s     H  u  n  t\n",
      "11\n",
      "3\n",
      "['Developers', 'Hunt']\n",
      "Developers Hunt\n",
      "Developers Hunt\n"
     ]
    }
   ],
   "source": [
    "#string methods(len, upper, lower, isdigit, join, find, count, split, strip, replace)\n",
    "st = \"Developers Hunt\"\n",
    "print(len(st))            #gives length of the string\n",
    "print(st.upper())       #convert the string into upper case\n",
    "print(st.lower())       #convert the string into lower case\n",
    "print(st.isdigit())     #check weither their is a digit inside the string\n",
    "print(\"  \".join(st))   #joins two string \n",
    "print(st.find(\"Hunt\"))    #find the index of the string specified to find \n",
    "print(st.count(\"e\"))      #counts the how much time a character or string is repeated\n",
    "print(st.split())         #makes a list of the string seperated by the character specified inside ()\n",
    "print(st.strip())         #removes all the spacess forward and backward\n",
    "print(st.replace(\"2021\", \"2022\"))   #replace the string with the given string"
   ]
  },
  {
   "cell_type": "markdown",
   "metadata": {},
   "source": [
    "## Print Formatting"
   ]
  },
  {
   "cell_type": "code",
   "execution_count": 12,
   "metadata": {},
   "outputs": [
    {
     "name": "stdout",
     "output_type": "stream",
     "text": [
      "I am harshad\n"
     ]
    }
   ],
   "source": [
    "# f string method\n",
    "name = \"harshad\"\n",
    "res = print(f\"I am {name}\")"
   ]
  },
  {
   "cell_type": "code",
   "execution_count": 11,
   "metadata": {},
   "outputs": [
    {
     "name": "stdout",
     "output_type": "stream",
     "text": [
      "I am Harshad and I am Developer\n",
      "I am Harshad and I am Developer\n",
      "I am Harshad and I am Developer\n"
     ]
    }
   ],
   "source": [
    "#.format method\n",
    "print(\"I am {name} and I am {developer}\".format(name = \"Harshad\", developer = \"Developer\"))\n",
    "print(\"I am {0} and I am {1}\".format(\"Harshad\",\"Developer\"))\n",
    "Name = \"Harshad\"\n",
    "Dev = \"Developer\"\n",
    "print(\"I am {} and I am {}\".format(Name, Dev))"
   ]
  },
  {
   "cell_type": "code",
   "execution_count": null,
   "metadata": {},
   "outputs": [],
   "source": []
  }
 ],
 "metadata": {
  "kernelspec": {
   "display_name": "Python 3 (ipykernel)",
   "language": "python",
   "name": "python3"
  },
  "language_info": {
   "codemirror_mode": {
    "name": "ipython",
    "version": 3
   },
   "file_extension": ".py",
   "mimetype": "text/x-python",
   "name": "python",
   "nbconvert_exporter": "python",
   "pygments_lexer": "ipython3",
   "version": "3.10.4"
  }
 },
 "nbformat": 4,
 "nbformat_minor": 4
}
