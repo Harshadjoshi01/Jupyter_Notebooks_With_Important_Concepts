{
 "cells": [
  {
   "cell_type": "markdown",
   "id": "6ae987e4",
   "metadata": {},
   "source": [
    "# Lists\n",
    "\n",
    "\n",
    "## Creating , Indexing and Slicing lists\n",
    "\n",
    "### Lists in python are good as comparision to arrays in other programming languages for two main reasons\n",
    "### 1st They have no fixed size (meaning we don't have to specify how big a list will be)\n",
    "### 2nd  They have no fixed type constraint"
   ]
  },
  {
   "cell_type": "code",
   "execution_count": 4,
   "id": "46355138",
   "metadata": {},
   "outputs": [
    {
     "name": "stdout",
     "output_type": "stream",
     "text": [
      "[8, 1, 4]\n"
     ]
    }
   ],
   "source": [
    "#List creation([],list)\n",
    "s = \"I am Harshad\"\n",
    "t = (1,2,3)\n",
    "d = {1:\"one\",2:\"two\"}\n",
    "se = {1,4,8}\n",
    "ls = list(se)\n",
    "ls1 = [\"1\",11, (1,2), {}, set()]\n",
    "print(ls)"
   ]
  },
  {
   "cell_type": "code",
   "execution_count": 6,
   "id": "298cc839",
   "metadata": {},
   "outputs": [
    {
     "name": "stdout",
     "output_type": "stream",
     "text": [
      "4\n"
     ]
    }
   ],
   "source": [
    "#Indexing (will give us the value at that position)\n",
    "s = [(1,2,3), \"string\", {1:\"one\"}, 4, 4.3]\n",
    "print(s[3])"
   ]
  },
  {
   "cell_type": "code",
   "execution_count": 8,
   "id": "475485ae",
   "metadata": {},
   "outputs": [
    {
     "name": "stdout",
     "output_type": "stream",
     "text": [
      "[4.3, 4, {1: 'one'}, 'string', (1, 2, 3)]\n"
     ]
    }
   ],
   "source": [
    "#Slicing (will give a new list containing the required elements)\n",
    "s = [(1,2,3), \"string\", {1:\"one\"}, 4, 4.3]\n",
    "print(s[::-1])"
   ]
  },
  {
   "cell_type": "code",
   "execution_count": 14,
   "id": "5742f8cd",
   "metadata": {},
   "outputs": [
    {
     "name": "stdout",
     "output_type": "stream",
     "text": [
      "False\n"
     ]
    }
   ],
   "source": [
    "#Difference between lists and strings\n",
    "#Strings are immutable but lists are mutable\n",
    "#Slicing and indexing string are same but are different in lists\n",
    "s = \"string\"\n",
    "ls = [1,2,3]\n",
    "#print(s[0] == s[0:1])\n",
    "print(ls[0] == ls[0:1])"
   ]
  },
  {
   "cell_type": "code",
   "execution_count": 15,
   "id": "46e4fd9d",
   "metadata": {},
   "outputs": [
    {
     "name": "stdout",
     "output_type": "stream",
     "text": [
      "[1, 2, 'a', 'b']\n"
     ]
    }
   ],
   "source": [
    "#Concatination of lists (will give a new list containing the required elements)\n",
    "ls1 = [1,2]\n",
    "ls2 = [\"a\",\"b\"]\n",
    "print(ls1 + ls2)"
   ]
  },
  {
   "cell_type": "code",
   "execution_count": 21,
   "id": "710d0fc5",
   "metadata": {},
   "outputs": [
    {
     "name": "stdout",
     "output_type": "stream",
     "text": [
      "['a', 'b', 'c']\n"
     ]
    }
   ],
   "source": [
    "#Making a copy of existing list\n",
    "#In comparision to immutable data types where assignment operator creates a freash copy of new item.\n",
    "#lists just make new name of it\n",
    "#check them with (== or is)\n",
    "ls1 = [\"a\", \"b\", \"c\"]\n",
    "ls = []\n",
    "ls2 = ls + ls1\n",
    "ls2[1] = \"d\"\n",
    "print(ls1)"
   ]
  },
  {
   "cell_type": "code",
   "execution_count": 22,
   "id": "98c62ffc",
   "metadata": {},
   "outputs": [
    {
     "name": "stdout",
     "output_type": "stream",
     "text": [
      "['a', 'b', 'c', 'a', 'b', 'c']\n"
     ]
    }
   ],
   "source": [
    "#Making the list double\n",
    "ls1 = [\"a\", \"b\", \"c\"]\n",
    "ls2 = ls1*2\n",
    "print(ls2)"
   ]
  },
  {
   "cell_type": "markdown",
   "id": "48cd2fd6",
   "metadata": {},
   "source": [
    "## Lists methods and Nesting of Lists\n"
   ]
  },
  {
   "cell_type": "code",
   "execution_count": 23,
   "id": "29e459e1",
   "metadata": {},
   "outputs": [
    {
     "name": "stdout",
     "output_type": "stream",
     "text": [
      "[0, 1, 2, 3, 4, 5, 6, 7, 8, 9]\n"
     ]
    }
   ],
   "source": [
    "#Creating list with Range function\n",
    "ls1 = list(range(10))\n",
    "print(ls1)"
   ]
  },
  {
   "cell_type": "code",
   "execution_count": 24,
   "id": "4d5069fd",
   "metadata": {},
   "outputs": [
    {
     "name": "stdout",
     "output_type": "stream",
     "text": [
      "10\n"
     ]
    }
   ],
   "source": [
    "#len(Just gives us the length of the list)\n",
    "ls1 = list(range(10))\n",
    "print(len(ls1))"
   ]
  },
  {
   "cell_type": "code",
   "execution_count": 25,
   "id": "fb394baa",
   "metadata": {},
   "outputs": [
    {
     "name": "stdout",
     "output_type": "stream",
     "text": [
      "[0, 1, 2, 3, 4, 5, 6, 7, 8, 9, 'a']\n"
     ]
    }
   ],
   "source": [
    "#Append(Just adds a value to the end of the list in place)\n",
    "ls1 = list(range(10))\n",
    "ls1.append(\"a\")\n",
    "print(ls1)"
   ]
  },
  {
   "cell_type": "code",
   "execution_count": 26,
   "id": "e2d02793",
   "metadata": {},
   "outputs": [
    {
     "name": "stdout",
     "output_type": "stream",
     "text": [
      "['a', 'b', 'c', 'k', 'l']\n"
     ]
    }
   ],
   "source": [
    "#Extend(Takes list as an argument and add all the values to the existing list in place)\n",
    "ls1 = [\"a\", \"b\", \"c\"]\n",
    "ls1.extend([\"k\",\"l\"])\n",
    "print(ls1)"
   ]
  },
  {
   "cell_type": "code",
   "execution_count": 28,
   "id": "3641f6f1",
   "metadata": {},
   "outputs": [
    {
     "ename": "ValueError",
     "evalue": "list.remove(x): x not in list",
     "output_type": "error",
     "traceback": [
      "\u001b[1;31m---------------------------------------------------------------------------\u001b[0m",
      "\u001b[1;31mValueError\u001b[0m                                Traceback (most recent call last)",
      "\u001b[1;32m<ipython-input-28-37919ffb74fb>\u001b[0m in \u001b[0;36m<module>\u001b[1;34m\u001b[0m\n\u001b[0;32m      1\u001b[0m \u001b[1;31m#Remove(Just removes the first occurance of the value specified from the list and gives error if not exists)\u001b[0m\u001b[1;33m\u001b[0m\u001b[1;33m\u001b[0m\u001b[1;33m\u001b[0m\u001b[0m\n\u001b[0;32m      2\u001b[0m \u001b[0mls1\u001b[0m \u001b[1;33m=\u001b[0m \u001b[1;33m[\u001b[0m\u001b[1;34m\"a\"\u001b[0m\u001b[1;33m,\u001b[0m \u001b[1;34m\"b\"\u001b[0m\u001b[1;33m,\u001b[0m \u001b[1;34m\"c\"\u001b[0m\u001b[1;33m,\u001b[0m \u001b[1;34m\"a\"\u001b[0m\u001b[1;33m]\u001b[0m\u001b[1;33m\u001b[0m\u001b[1;33m\u001b[0m\u001b[0m\n\u001b[1;32m----> 3\u001b[1;33m \u001b[0mls1\u001b[0m\u001b[1;33m.\u001b[0m\u001b[0mremove\u001b[0m\u001b[1;33m(\u001b[0m\u001b[1;34m\"k\"\u001b[0m\u001b[1;33m)\u001b[0m\u001b[1;33m\u001b[0m\u001b[1;33m\u001b[0m\u001b[0m\n\u001b[0m\u001b[0;32m      4\u001b[0m \u001b[0mprint\u001b[0m\u001b[1;33m(\u001b[0m\u001b[0mls1\u001b[0m\u001b[1;33m)\u001b[0m\u001b[1;33m\u001b[0m\u001b[1;33m\u001b[0m\u001b[0m\n",
      "\u001b[1;31mValueError\u001b[0m: list.remove(x): x not in list"
     ]
    }
   ],
   "source": [
    "#Remove(Just removes the first occurance of the value specified from the list and gives error if not exists)\n",
    "ls1 = [\"a\", \"b\", \"c\", \"a\"]\n",
    "ls1.remove(\"k\")\n",
    "print(ls1)"
   ]
  },
  {
   "cell_type": "code",
   "execution_count": 30,
   "id": "87981b1e",
   "metadata": {},
   "outputs": [
    {
     "name": "stdout",
     "output_type": "stream",
     "text": [
      "['a', 'b', 'a']\n"
     ]
    }
   ],
   "source": [
    "#PoP(Just removes the last value from the list but also takes indexes)\n",
    "ls1 = [\"a\", \"b\", \"c\", \"a\"]\n",
    "ls1.pop(2)\n",
    "print(ls1)"
   ]
  },
  {
   "cell_type": "code",
   "execution_count": 31,
   "id": "db322a36",
   "metadata": {},
   "outputs": [
    {
     "name": "stdout",
     "output_type": "stream",
     "text": [
      "['a', 'c', 'b', 'a']\n"
     ]
    }
   ],
   "source": [
    "#Reverse(Just reverse the list in place)\n",
    "ls1 = [\"a\", \"b\", \"c\", \"a\"]\n",
    "ls1.reverse()\n",
    "print(ls1)"
   ]
  },
  {
   "cell_type": "code",
   "execution_count": 32,
   "id": "4680dadd",
   "metadata": {},
   "outputs": [
    {
     "name": "stdout",
     "output_type": "stream",
     "text": [
      "['a', 'a', 'b', 'c']\n"
     ]
    }
   ],
   "source": [
    "#Sort(Just sort the list in ascending order)\n",
    "ls1 = [\"a\", \"b\", \"c\", \"a\"]\n",
    "ls1.sort()\n",
    "print(ls1)"
   ]
  },
  {
   "cell_type": "code",
   "execution_count": 27,
   "id": "3ee6faaf",
   "metadata": {},
   "outputs": [
    {
     "data": {
      "text/plain": [
       "0"
      ]
     },
     "execution_count": 27,
     "metadata": {},
     "output_type": "execute_result"
    }
   ],
   "source": [
    "#Index(will give us the index of perticular value from left side)\n",
    "ls1 = [\"a\", \"b\", \"c\", \"a\"]\n",
    "ls1.index(\"a\")"
   ]
  },
  {
   "cell_type": "code",
   "execution_count": 34,
   "id": "6df4cc36",
   "metadata": {},
   "outputs": [
    {
     "name": "stdout",
     "output_type": "stream",
     "text": [
      "False\n"
     ]
    }
   ],
   "source": [
    "#Membership of element in list by (in)\n",
    "ls1 = [\"a\", \"b\", \"c\", \"a\"]\n",
    "print(\"k\" in ls1)"
   ]
  },
  {
   "cell_type": "code",
   "execution_count": 35,
   "id": "ca30f4a6",
   "metadata": {},
   "outputs": [
    {
     "name": "stdout",
     "output_type": "stream",
     "text": [
      "j\n"
     ]
    }
   ],
   "source": [
    "#Nesting of Lists\n",
    "ls1 = [\"a\",[1,2,[\"k\",\"j\"]], \"c\", \"a\"]\n",
    "print(ls1[1][2][1])"
   ]
  },
  {
   "cell_type": "code",
   "execution_count": null,
   "id": "7cb9be9d",
   "metadata": {},
   "outputs": [],
   "source": [
    "# user defined lists and List comprihension will be covered after you will get aware of looping\n"
   ]
  },
  {
   "cell_type": "markdown",
   "id": "badeac8e",
   "metadata": {},
   "source": [
    "# Dictionaries\n",
    "\n",
    "\n",
    "## Creating dictionaries and Accessing objects from it"
   ]
  },
  {
   "cell_type": "code",
   "execution_count": 37,
   "id": "632b91cc",
   "metadata": {},
   "outputs": [
    {
     "name": "stdout",
     "output_type": "stream",
     "text": [
      "{'virat': 85, 'rohit': 100}\n"
     ]
    }
   ],
   "source": [
    "#creating dictionaries ({},dict) (keys in the dict must be of immutable data type and value can be anything)\n",
    "my_dict = {\"virat\": 85, \"rohit\": 100, \"dhavan\": 90}\n",
    "my_dict1 = dict([(\"virat\",85),(\"rohit\",100)])\n",
    "print(my_dict1)"
   ]
  },
  {
   "cell_type": "code",
   "execution_count": 41,
   "id": "76ef564b",
   "metadata": {},
   "outputs": [
    {
     "name": "stdout",
     "output_type": "stream",
     "text": [
      "None\n"
     ]
    }
   ],
   "source": [
    "#Accessing objects ([] and get method)\n",
    "my_dict = {\"virat\": 85, \"rohit\": 100, \"dhavan\": 90}\n",
    "#print(my_dict[\"rohi\"])\n",
    "print(my_dict.get(\"rohi\"))"
   ]
  },
  {
   "cell_type": "code",
   "execution_count": 42,
   "id": "b49cb899",
   "metadata": {},
   "outputs": [
    {
     "name": "stdout",
     "output_type": "stream",
     "text": [
      "{'virat': 90, 'rohit': 100, 'dhavan': 90, 'raina': 46}\n"
     ]
    }
   ],
   "source": [
    "#Adding and Updating items\n",
    "my_dict = {\"virat\": 85, \"rohit\": 100, \"dhavan\": 90}\n",
    "my_dict[\"raina\"] = 46 #adding new item in dict\n",
    "my_dict[\"virat\"] = 90 #upaditing an existing item\n",
    "print(my_dict)"
   ]
  },
  {
   "cell_type": "markdown",
   "id": "6c9333f6",
   "metadata": {},
   "source": [
    "## Dictionaries methods"
   ]
  },
  {
   "cell_type": "code",
   "execution_count": 4,
   "id": "a3ddf424",
   "metadata": {},
   "outputs": [
    {
     "name": "stdout",
     "output_type": "stream",
     "text": [
      "[85, 100, 90]\n"
     ]
    }
   ],
   "source": [
    "my_dict = {\"virat\": 85, \"rohit\": 100, \"dhavan\": 90}"
   ]
  },
  {
   "cell_type": "code",
   "execution_count": 43,
   "id": "d55df330",
   "metadata": {},
   "outputs": [
    {
     "name": "stdout",
     "output_type": "stream",
     "text": [
      "{}\n"
     ]
    }
   ],
   "source": [
    "#Clear (Removes all the elements from the dictionary)\n",
    "my_dict = {\"virat\": 85, \"rohit\": 100, \"dhavan\": 90}\n",
    "my_dict.clear()\n",
    "print(my_dict)"
   ]
  },
  {
   "cell_type": "code",
   "execution_count": 44,
   "id": "696607de",
   "metadata": {},
   "outputs": [
    {
     "name": "stdout",
     "output_type": "stream",
     "text": [
      "{'virat': 20, 'dhoni': 20}\n"
     ]
    }
   ],
   "source": [
    "#FromKeys(Returns a new dictionary with keys from seq and value equal to v (defaults to None))\n",
    "my_dict = {}\n",
    "x = (\"virat\", \"dhoni\")\n",
    "y = 20\n",
    "new_dict = my_dict.fromkeys(x,y)\n",
    "print(new_dict)"
   ]
  },
  {
   "cell_type": "code",
   "execution_count": 45,
   "id": "8d0e0cae",
   "metadata": {},
   "outputs": [
    {
     "data": {
      "text/plain": [
       "dict_items([('virat', 85), ('rohit', 100), ('dhavan', 90)])"
      ]
     },
     "execution_count": 45,
     "metadata": {},
     "output_type": "execute_result"
    }
   ],
   "source": [
    "#Items(Return a new object of the dictionary's items in (key, value) format.)\n",
    "my_dict = {\"virat\": 85, \"rohit\": 100, \"dhavan\": 90}\n",
    "my_dict.items()"
   ]
  },
  {
   "cell_type": "code",
   "execution_count": 46,
   "id": "0ef30d16",
   "metadata": {},
   "outputs": [
    {
     "data": {
      "text/plain": [
       "dict_keys(['virat', 'rohit', 'dhavan'])"
      ]
     },
     "execution_count": 46,
     "metadata": {},
     "output_type": "execute_result"
    }
   ],
   "source": [
    "#Keys(Returns a list containing the dictionary's keys)\n",
    "my_dict = {\"virat\": 85, \"rohit\": 100, \"dhavan\": 90}\n",
    "my_dict.keys()"
   ]
  },
  {
   "cell_type": "code",
   "execution_count": 47,
   "id": "f3441b87",
   "metadata": {},
   "outputs": [
    {
     "data": {
      "text/plain": [
       "dict_values([85, 100, 90])"
      ]
     },
     "execution_count": 47,
     "metadata": {},
     "output_type": "execute_result"
    }
   ],
   "source": [
    "#Values(Returns a list of all the values in the dictionary)\n",
    "my_dict = {\"virat\": 85, \"rohit\": 100, \"dhavan\": 90}\n",
    "my_dict.values()"
   ]
  },
  {
   "cell_type": "code",
   "execution_count": 48,
   "id": "30317a70",
   "metadata": {},
   "outputs": [
    {
     "name": "stdout",
     "output_type": "stream",
     "text": [
      "{'rohit': 100, 'dhavan': 90}\n"
     ]
    }
   ],
   "source": [
    "#pop(Removes the element with the specified key)\n",
    "my_dict = {\"virat\": 85, \"rohit\": 100, \"dhavan\": 90}\n",
    "my_dict.pop(\"virat\")\n",
    "print(my_dict)"
   ]
  },
  {
   "cell_type": "code",
   "execution_count": 49,
   "id": "0992d9a5",
   "metadata": {},
   "outputs": [
    {
     "data": {
      "text/plain": [
       "3"
      ]
     },
     "execution_count": 49,
     "metadata": {},
     "output_type": "execute_result"
    }
   ],
   "source": [
    "#len(Return the length (the number of items) in the dictionary)\n",
    "my_dict = {\"virat\": 85, \"rohit\": 100, \"dhavan\": 90}\n",
    "len(my_dict)"
   ]
  },
  {
   "cell_type": "code",
   "execution_count": 51,
   "id": "af176379",
   "metadata": {},
   "outputs": [
    {
     "name": "stdout",
     "output_type": "stream",
     "text": [
      "False\n"
     ]
    }
   ],
   "source": [
    "#all(Return True if all keys of the dictionary are True (or if the dictionary is empty))\n",
    "my_dict = {0 : 0, \"rohit\": 100, \"dhavan\": 90}\n",
    "print(all(my_dict))"
   ]
  },
  {
   "cell_type": "code",
   "execution_count": 52,
   "id": "ece776b1",
   "metadata": {},
   "outputs": [
    {
     "data": {
      "text/plain": [
       "['dhavan', 'rohit', 'virat']"
      ]
     },
     "execution_count": 52,
     "metadata": {},
     "output_type": "execute_result"
    }
   ],
   "source": [
    "#sorted(Return a new sorted list of keys in the dictionary.)\n",
    "my_dict = {\"virat\": 85, \"rohit\": 100, \"dhavan\": 90}\n",
    "sorted(my_dict)\n"
   ]
  },
  {
   "cell_type": "code",
   "execution_count": 53,
   "id": "ed8db0bf",
   "metadata": {},
   "outputs": [
    {
     "name": "stdout",
     "output_type": "stream",
     "text": [
      "True\n"
     ]
    }
   ],
   "source": [
    "#Membership of keys in dict\n",
    "my_dict = {\"virat\": 85, \"rohit\": 100, \"dhavan\": 90}\n",
    "\n",
    "print(\"virat\" in my_dict)"
   ]
  },
  {
   "cell_type": "markdown",
   "id": "8a71a11c",
   "metadata": {},
   "source": [
    "### Nesting of Dictionaries"
   ]
  },
  {
   "cell_type": "code",
   "execution_count": 54,
   "id": "a6ff009e",
   "metadata": {},
   "outputs": [
    {
     "name": "stdout",
     "output_type": "stream",
     "text": [
      "one\n"
     ]
    }
   ],
   "source": [
    "#Nesting\n",
    "my_dict = {\"virat\": {\"r\":56,\"v\":{1:\"one\"}}, \"rohit\": 100, \"dhavan\": 90}\n",
    "print(my_dict[\"virat\"][\"v\"][1])"
   ]
  },
  {
   "cell_type": "markdown",
   "id": "ab79d198",
   "metadata": {},
   "source": [
    "# Tuples\n",
    "\n",
    "\n",
    "## Creating , Indexing and Slicing of Tuples"
   ]
  },
  {
   "cell_type": "code",
   "execution_count": 55,
   "id": "858e4bab",
   "metadata": {},
   "outputs": [
    {
     "name": "stdout",
     "output_type": "stream",
     "text": [
      "4 5 6\n"
     ]
    }
   ],
   "source": [
    "#Creating\n",
    "#Tuple packing\n",
    "#Tuple Unpacking\n",
    "my_tup = (4, 5, 6)\n",
    "(x, y, z) = my_tup\n",
    "print(x,y,z)"
   ]
  },
  {
   "cell_type": "code",
   "execution_count": 60,
   "id": "8f36b9d3",
   "metadata": {},
   "outputs": [
    {
     "ename": "NameError",
     "evalue": "name 'my_tup' is not defined",
     "output_type": "error",
     "traceback": [
      "\u001b[1;31m---------------------------------------------------------------------------\u001b[0m",
      "\u001b[1;31mNameError\u001b[0m                                 Traceback (most recent call last)",
      "\u001b[1;32m<ipython-input-60-d09fcb5c1614>\u001b[0m in \u001b[0;36m<module>\u001b[1;34m\u001b[0m\n\u001b[0;32m      5\u001b[0m \u001b[1;31m#my_tup[1] = 7\u001b[0m\u001b[1;33m\u001b[0m\u001b[1;33m\u001b[0m\u001b[1;33m\u001b[0m\u001b[0m\n\u001b[0;32m      6\u001b[0m \u001b[1;32mdel\u001b[0m \u001b[0mmy_tup\u001b[0m\u001b[1;33m\u001b[0m\u001b[1;33m\u001b[0m\u001b[0m\n\u001b[1;32m----> 7\u001b[1;33m \u001b[0mprint\u001b[0m\u001b[1;33m(\u001b[0m\u001b[0mmy_tup\u001b[0m\u001b[1;33m)\u001b[0m\u001b[1;33m\u001b[0m\u001b[1;33m\u001b[0m\u001b[0m\n\u001b[0m",
      "\u001b[1;31mNameError\u001b[0m: name 'my_tup' is not defined"
     ]
    }
   ],
   "source": [
    "#Indexing\n",
    "#Immutablity of tuple\n",
    "#Deleting Item from tuple not possible but you can delete entire tuple(del tuple)\n",
    "my_tup = (4, 5, 6)\n",
    "#my_tup[1] = 7\n",
    "del my_tup\n",
    "print(my_tup)"
   ]
  },
  {
   "cell_type": "code",
   "execution_count": 61,
   "id": "1fe19da7",
   "metadata": {},
   "outputs": [
    {
     "name": "stdout",
     "output_type": "stream",
     "text": [
      "(5, 6)\n"
     ]
    }
   ],
   "source": [
    "#Slicing\n",
    "my_tup = (4, 5, 6)\n",
    "my_tup[1:]\n",
    "print(my_tup[1:])"
   ]
  },
  {
   "cell_type": "code",
   "execution_count": 62,
   "id": "29f097ec",
   "metadata": {},
   "outputs": [
    {
     "name": "stdout",
     "output_type": "stream",
     "text": [
      "True\n"
     ]
    }
   ],
   "source": [
    "# Membership of objects in tuple\n",
    "my_tup = (4, 5, 6)\n",
    "print(4 in my_tup)"
   ]
  },
  {
   "cell_type": "code",
   "execution_count": 63,
   "id": "07df20a6",
   "metadata": {},
   "outputs": [
    {
     "name": "stdout",
     "output_type": "stream",
     "text": [
      "(1, 4, 3)\n"
     ]
    }
   ],
   "source": [
    "#How to change items in tuple\n",
    "my_tup = (1,2,3)\n",
    "my_list = list(my_tup)\n",
    "my_list[1] = 4\n",
    "my_tup = tuple(my_list)\n",
    "print(my_tup)"
   ]
  },
  {
   "cell_type": "markdown",
   "id": "83a7c21b",
   "metadata": {},
   "source": [
    "## Tuple Methods"
   ]
  },
  {
   "cell_type": "code",
   "execution_count": 64,
   "id": "cdce8308",
   "metadata": {},
   "outputs": [
    {
     "name": "stdout",
     "output_type": "stream",
     "text": [
      "2\n"
     ]
    }
   ],
   "source": [
    "#Count\n",
    "my_tup = (1,2,3,2)\n",
    "print(my_tup.count(2))"
   ]
  },
  {
   "cell_type": "code",
   "execution_count": 65,
   "id": "96608a81",
   "metadata": {},
   "outputs": [
    {
     "name": "stdout",
     "output_type": "stream",
     "text": [
      "1\n"
     ]
    }
   ],
   "source": [
    "#Index\n",
    "my_tup = (1,2,3)\n",
    "print(my_tup.index(2))"
   ]
  },
  {
   "cell_type": "markdown",
   "id": "576a84f3",
   "metadata": {},
   "source": [
    "# Sets\n",
    "\n",
    "## Creating sets"
   ]
  },
  {
   "cell_type": "code",
   "execution_count": null,
   "id": "2629333a",
   "metadata": {},
   "outputs": [],
   "source": [
    "#creating({}, set()) (SETs cannot contain mutable data types such as lists and dictionaries)\n",
    "#Sets can also be used to perform mathematical set operations like union, intersection, symmetric difference, etc.\n",
    "my_set = {1,2,3}\n",
    "my_set = set([1,23])\n"
   ]
  },
  {
   "cell_type": "markdown",
   "id": "1bb0767c",
   "metadata": {},
   "source": [
    "## Set Methods"
   ]
  },
  {
   "cell_type": "code",
   "execution_count": 67,
   "id": "8036c44f",
   "metadata": {},
   "outputs": [
    {
     "name": "stdout",
     "output_type": "stream",
     "text": [
      "{1, 2, 3, 'a'}\n"
     ]
    }
   ],
   "source": [
    "#add(for adding an item into set)\n",
    "my_set = {1,2,3}\n",
    "my_set.add(\"a\")\n",
    "print(my_set)"
   ]
  },
  {
   "cell_type": "code",
   "execution_count": 68,
   "id": "1619da6e",
   "metadata": {},
   "outputs": [
    {
     "name": "stdout",
     "output_type": "stream",
     "text": [
      "{1, 2, 3, 5, 6}\n"
     ]
    }
   ],
   "source": [
    "#update(for adding more thent one item into set)\n",
    "my_set = {1,2,3}\n",
    "my_set.update([5,6])\n",
    "print(my_set)"
   ]
  },
  {
   "cell_type": "code",
   "execution_count": 71,
   "id": "367a8e46",
   "metadata": {},
   "outputs": [
    {
     "name": "stdout",
     "output_type": "stream",
     "text": [
      "{1, 2}\n"
     ]
    }
   ],
   "source": [
    "#remove(will remove the perticular item from set but gives error if item not present)\n",
    "my_set = {1,2,3}\n",
    "my_set.remove(3)\n",
    "print(my_set)"
   ]
  },
  {
   "cell_type": "code",
   "execution_count": 75,
   "id": "0425f306",
   "metadata": {},
   "outputs": [
    {
     "name": "stdout",
     "output_type": "stream",
     "text": [
      "{1, 2}\n"
     ]
    }
   ],
   "source": [
    "#discard(will remove the perticular item from set but doesn't give err if not present)\n",
    "my_set = {1,2,3}\n",
    "my_set.discard(3)\n",
    "print(my_set)"
   ]
  },
  {
   "cell_type": "code",
   "execution_count": null,
   "id": "cfce34a1",
   "metadata": {},
   "outputs": [],
   "source": [
    "#clear(to remove all the elements from set)"
   ]
  },
  {
   "cell_type": "code",
   "execution_count": 76,
   "id": "cc063f7c",
   "metadata": {},
   "outputs": [
    {
     "name": "stdout",
     "output_type": "stream",
     "text": [
      "{1, 2, 3, 7, 8}\n"
     ]
    }
   ],
   "source": [
    "#union(|)\n",
    "a = {1,2,3}\n",
    "b = {2,7,8}\n",
    "print(a|b)"
   ]
  },
  {
   "cell_type": "code",
   "execution_count": 77,
   "id": "721717d7",
   "metadata": {},
   "outputs": [
    {
     "name": "stdout",
     "output_type": "stream",
     "text": [
      "{2}\n"
     ]
    }
   ],
   "source": [
    "#intersection(&)\n",
    "a = {1,2,3}\n",
    "b = {2,7,8}\n",
    "print(a&b)"
   ]
  },
  {
   "cell_type": "code",
   "execution_count": 78,
   "id": "e1987d9f",
   "metadata": {},
   "outputs": [
    {
     "name": "stdout",
     "output_type": "stream",
     "text": [
      "{1, 3}\n"
     ]
    }
   ],
   "source": [
    "#difference(-)\n",
    "a = {1,2,3}\n",
    "b = {2,7,8}\n",
    "print(a-b)"
   ]
  },
  {
   "cell_type": "code",
   "execution_count": 79,
   "id": "8343816f",
   "metadata": {},
   "outputs": [
    {
     "name": "stdout",
     "output_type": "stream",
     "text": [
      "{1, 3, 7, 8}\n"
     ]
    }
   ],
   "source": [
    "#symmetric_difference(^)\n",
    "a = {1,2,3}\n",
    "b = {2,7,8}\n",
    "print(a^b)"
   ]
  },
  {
   "cell_type": "code",
   "execution_count": null,
   "id": "6eea57ed",
   "metadata": {},
   "outputs": [],
   "source": [
    "n = int(input())\n",
    "for i in range(n):\n",
    "    "
   ]
  }
 ],
 "metadata": {
  "kernelspec": {
   "display_name": "Python 3",
   "language": "python",
   "name": "python3"
  },
  "language_info": {
   "codemirror_mode": {
    "name": "ipython",
    "version": 3
   },
   "file_extension": ".py",
   "mimetype": "text/x-python",
   "name": "python",
   "nbconvert_exporter": "python",
   "pygments_lexer": "ipython3",
   "version": "3.9.6"
  }
 },
 "nbformat": 4,
 "nbformat_minor": 5
}
