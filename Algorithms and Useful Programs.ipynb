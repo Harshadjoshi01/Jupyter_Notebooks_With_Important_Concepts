{
 "cells": [
  {
   "cell_type": "markdown",
   "metadata": {},
   "source": [
    "# Linear search\n"
   ]
  },
  {
   "cell_type": "code",
   "execution_count": 2,
   "metadata": {},
   "outputs": [
    {
     "name": "stdout",
     "output_type": "stream",
     "text": [
      "True\n"
     ]
    }
   ],
   "source": [
    "def search(arr,v):\n",
    "    for x in arr:\n",
    "        if x == v:\n",
    "            return True \n",
    "    return False\n",
    "\n",
    "array = [5,7,8,9,4,6,2,1]\n",
    "k = 7\n",
    "result = search(array, k)\n",
    "#print(result)"
   ]
  },
  {
   "cell_type": "markdown",
   "metadata": {},
   "source": [
    "# Binary Search( input must be sorted list)"
   ]
  },
  {
   "cell_type": "code",
   "execution_count": 7,
   "metadata": {},
   "outputs": [
    {
     "name": "stdout",
     "output_type": "stream",
     "text": [
      "False\n"
     ]
    }
   ],
   "source": [
    "def bsearch(seq, v,r,l = 0):\n",
    "    #search for v in seq[l:r], seq is sorted.\n",
    "    \n",
    "    if (r - l == 0):\n",
    "        return False\n",
    "    \n",
    "    mid = (l + r) // 2 # integer division\n",
    "    \n",
    "    if (v == seq[mid]):\n",
    "        return (True)\n",
    "    if (v < seq[mid]):\n",
    "        return (bsearch(seq,v, ,mid))\n",
    "    else:\n",
    "        return (bsearch(seq,v,mid+1,r))\n",
    "\n",
    "array = [1,2,3,4,5,6,7,8,9]\n",
    "k = 10\n",
    "l = 0\n",
    "r = len(array)\n",
    "result = bsearch(array, k, r )\n",
    "#print(result)    \n",
    "    "
   ]
  },
  {
   "cell_type": "markdown",
   "metadata": {},
   "source": [
    "# Selection sort "
   ]
  },
  {
   "cell_type": "code",
   "execution_count": 8,
   "metadata": {},
   "outputs": [
    {
     "name": "stdout",
     "output_type": "stream",
     "text": [
      "[1, 2, 4, 5, 6, 7, 8, 9]\n"
     ]
    }
   ],
   "source": [
    "def selection_sort(arr):\n",
    "    #scan slices l[0:len(l)], l[1:len(l)], .....\n",
    "    len_arr = len(arr)\n",
    "    for start in range(len_arr):\n",
    "        #Find minimum value in Slice ....\n",
    "        minipos = start \n",
    "        for i in range(start, len_arr):\n",
    "            if arr[i] < arr[minipos]:\n",
    "                minipos = i\n",
    "            # ... and move it to start of slice\n",
    "        (arr[start],arr[minipos]) = (arr[minipos],arr[start])\n",
    "    \n",
    "    return arr\n",
    "\n",
    "array = [5,7,8,9,4,6,2,1]\n",
    "result = selection_sort(array)\n",
    "#print(result)\n"
   ]
  },
  {
   "cell_type": "markdown",
   "metadata": {},
   "source": [
    "# Insertion sort"
   ]
  },
  {
   "cell_type": "code",
   "execution_count": 2,
   "metadata": {},
   "outputs": [],
   "source": [
    "def Insertion_sort(arr):\n",
    "    len_arr = len(arr)\n",
    "    for sliceEnd in range(len_arr):\n",
    "        #Build longer and longer sorted slices\n",
    "        #In each iteration seq[0:sliceEnd] already sorted\n",
    "        #Move first element after sorted slice left\n",
    "        # till it is in the correct place \n",
    "        pos = sliceEnd\n",
    "        while pos > 0 and arr[pos] < arr[pos - 1]:\n",
    "            (arr[pos], arr[pos - 1]) = (arr[pos - 1], arr[pos])\n",
    "            pos = pos - 1\n",
    "        \n",
    "    return arr\n",
    "\n",
    "array = list(range(1000,0,-1))\n",
    "result = Insertion_sort(array)\n",
    "#print(result)\n",
    "\n"
   ]
  },
  {
   "cell_type": "markdown",
   "metadata": {},
   "source": [
    "# Recursion"
   ]
  },
  {
   "cell_type": "code",
   "execution_count": 12,
   "metadata": {},
   "outputs": [
    {
     "name": "stdout",
     "output_type": "stream",
     "text": [
      "8\n"
     ]
    }
   ],
   "source": [
    "def fact(num):\n",
    "    if num == 0 or num == 1:\n",
    "        return 1\n",
    "    else:\n",
    "        return num * fact(num - 1)\n",
    "    \n",
    "def fibb_element(num):\n",
    "    if num == 1 or num == 2:\n",
    "        return 1\n",
    "    else:\n",
    "        return fibb_element(num -1) + fibb_element(num - 2)\n",
    "    \n",
    "result = fibb_element(6)\n",
    "#print(result)"
   ]
  },
  {
   "cell_type": "markdown",
   "metadata": {},
   "source": [
    "# Recursive Insestion sort "
   ]
  },
  {
   "cell_type": "code",
   "execution_count": 27,
   "metadata": {},
   "outputs": [],
   "source": [
    "def insert(arr, k):                       #Insert arr[k] into sorted arr[0:k-1]\n",
    "    pos = k\n",
    "    while pos > 0 and arr[pos] < arr[pos - 1]:\n",
    "        (arr[pos], arr[pos - 1]) = (arr[pos - 1], arr[pos])\n",
    "        pos = pos - 1\n",
    "    \n",
    "    return arr\n",
    "def issort(arr, k):\n",
    "    # sort slice arr[o:k]\n",
    "    if k > 1:\n",
    "        issort(arr, k-1)\n",
    "        insert(arr, k-1)\n",
    "    return arr\n",
    "\n",
    "        \n",
    "def recurcive_insertion(arr):\n",
    "    len_arr = len(arr)\n",
    "    result = issort(arr, len_arr)\n",
    "    return result\n",
    "\n",
    "array = list(range(1000,0,-1))\n",
    "result = Insertion_sort(array)\n",
    "#print(result)\n",
    "\n",
    "    "
   ]
  },
  {
   "cell_type": "markdown",
   "metadata": {},
   "source": [
    "# Merging of two sorted list"
   ]
  },
  {
   "cell_type": "code",
   "execution_count": 39,
   "metadata": {},
   "outputs": [
    {
     "name": "stdout",
     "output_type": "stream",
     "text": [
      "[1, 3, 5, 6, 8, 7, 2, 9]\n"
     ]
    }
   ],
   "source": [
    "import random\n",
    "\n",
    "def merge(arr_a, arr_b):                     # merge a[0:m], b[0:n]\n",
    "    (c,m,n) = ([], len(arr_a), len(arr_b))\n",
    "    (i, j) = (0,0)                          # Current positions in a,b\n",
    "    while i + j < m + n:                    # i + j is number of elements merged sofar\n",
    "        if i == m:                          # Case1 : Array a is empty\n",
    "            c.append(arr_b[j])\n",
    "            j = j + 1\n",
    "        elif j == n:                        #Case2 : Array b is empty\n",
    "            c.append(arr_a[i])\n",
    "            i = i + 1\n",
    "        elif arr_a[i] <= arr_b[j]:          #Case3 : Head of array a is smaller\n",
    "            c.append(arr_a[i])\n",
    "            i = i + 1\n",
    "        elif arr_a[i] > arr_b[j]:          #Case4 : Head of array b is smaller\n",
    "            c.append(arr_b[j])\n",
    "            j = j + 1\n",
    "            \n",
    "    return c\n",
    "\n",
    "x = [1,3,5,9]\n",
    "y = [6,8,7,2]\n",
    "k = merge(x, y)\n",
    "print(k)\n",
    "        "
   ]
  },
  {
   "cell_type": "markdown",
   "metadata": {},
   "source": [
    "# MergeSort Algoritm"
   ]
  },
  {
   "cell_type": "code",
   "execution_count": 43,
   "metadata": {},
   "outputs": [],
   "source": [
    "def merge(arr_a, arr_b):                     # merge a[0:m], b[0:n]\n",
    "    (c,m,n) = ([], len(arr_a), len(arr_b))\n",
    "    (i, j) = (0,0)                          # Current positions in a,b\n",
    "    while i + j < m + n:                    # i + j is number of elements merged sofar\n",
    "        if i == m:                          # Case1 : Array a is empty\n",
    "            c.append(arr_b[j])\n",
    "            j = j + 1\n",
    "        elif j == n:                        #Case2 : Array b is empty\n",
    "            c.append(arr_a[i])\n",
    "            i = i + 1\n",
    "        elif arr_a[i] <= arr_b[j]:          #Case3 : Head of array a is smaller\n",
    "            c.append(arr_a[i])\n",
    "            i = i + 1\n",
    "        elif arr_a[i] > arr_b[j]:          #Case4 : Head of array b is smaller\n",
    "            c.append(arr_b[j])\n",
    "            j = j + 1\n",
    "            \n",
    "    return c\n",
    "\n",
    "\n",
    "def mergeSort(arr,left,right):\n",
    "    #Sort the Slice a[left:right]\n",
    "    if right - left <= 1:  #Basecase\n",
    "        return (arr[left:right])\n",
    "    if right - left > 1:   #Recursive call\n",
    "        mid = (left + right) // 2\n",
    "        L = mergeSort(arr, left, mid)\n",
    "        R = mergeSort(arr, mid, right)\n",
    "        return (merge(L,R))\n",
    "    \n",
    "x = list(range(1,1001))\n",
    "random.shuffle(x)\n",
    "result = mergeSort(x,0,1000)\n",
    "#print(result)"
   ]
  },
  {
   "cell_type": "markdown",
   "metadata": {},
   "source": [
    "# Quicksort"
   ]
  },
  {
   "cell_type": "code",
   "execution_count": 3,
   "metadata": {},
   "outputs": [
    {
     "name": "stdout",
     "output_type": "stream",
     "text": [
      "()\n"
     ]
    }
   ],
   "source": [
    "def quicksort(arr,l,r):                #Sort a[l:r]\n",
    "    if r - l <= 1:                     # Base case\n",
    "        return ()\n",
    "    \n",
    "    #Partion with respect to pivot, a[l]\n",
    "    yellow = l + 1\n",
    "    \n",
    "    for green in range(l+1, r):\n",
    "        if arr[green] <= arr[l]:\n",
    "            (arr[yellow], arr[green]) = (arr[green], arr[yellow])\n",
    "            yellow = yellow + 1\n",
    "            \n",
    "    #Move pivot into place\n",
    "    (arr[l], arr[yellow - 1]) = (arr[yellow - 1], arr[l])\n",
    "    \n",
    "    quicksort(arr, l, yellow - 1)      #Recursive calls\n",
    "    quicksort(arr, yellow, r)\n",
    "\n",
    "    return arr\n",
    "    \n",
    "    \n",
    "    \n",
    "x = [4]\n",
    "result = quicksort(x,0,1)\n",
    "print(result)"
   ]
  },
  {
   "cell_type": "markdown",
   "metadata": {},
   "source": [
    "# How to use sets intersection, union, difference, Symmetric difference"
   ]
  },
  {
   "cell_type": "code",
   "execution_count": null,
   "metadata": {},
   "outputs": [],
   "source": [
    "# Program to perform different set operations \n",
    "# as we do in mathematics \n",
    "\n",
    "# sets are define \n",
    "A = {0, 2, 4, 6, 8}; \n",
    "B = {1, 2, 3, 4, 5}; \n",
    "\n",
    "# union \n",
    "print(\"Union :\", A | B) \n",
    "\n",
    "# intersection \n",
    "print(\"Intersection :\", A & B) \n",
    "\n",
    "# difference \n",
    "print(\"Difference :\", A - B) \n",
    "\n",
    "# symmetric difference \n",
    "print(\"Symmetric difference :\", A ^ B) \n"
   ]
  },
  {
   "cell_type": "markdown",
   "metadata": {},
   "source": [
    "# Exception Handling while taking user input"
   ]
  },
  {
   "cell_type": "code",
   "execution_count": null,
   "metadata": {},
   "outputs": [],
   "source": [
    "while(True):\n",
    "    try:\n",
    "        userdata = input(\"Enter a number: \")\n",
    "        usernum = int(userdata)\n",
    "    except ValueError:\n",
    "        print(\"Not a number.Try again\")\n",
    "    else:\n",
    "        break"
   ]
  },
  {
   "cell_type": "markdown",
   "metadata": {},
   "source": [
    "# How to insialize a matrix in Functional programming"
   ]
  },
  {
   "cell_type": "code",
   "execution_count": 11,
   "metadata": {},
   "outputs": [
    {
     "name": "stdout",
     "output_type": "stream",
     "text": [
      "[[3, 2, 1], ['#', '#', '#'], ['#', '#', '#']]\n",
      "3 # # \n",
      "2 # # \n",
      "1 # # \n",
      "[[3, 2], ['#', '#', '#'], ['#', '#', 1]]\n"
     ]
    }
   ],
   "source": [
    "l = [[\"#\" for i in range(3)] for j in range(3)]\n",
    "l[0][0] = 3\n",
    "l[0][1] = 2\n",
    "l[0][2] = 1\n",
    "print(l)\n",
    "for i in range(3):\n",
    "    for j in range(3):\n",
    "        print(l[j][i], end = \" \")\n",
    "    print()\n",
    "\n",
    "\n",
    "            \n",
    "\n"
   ]
  },
  {
   "cell_type": "markdown",
   "metadata": {},
   "source": [
    "# Very Important function how to make different pairs with the given array for a constant sum k"
   ]
  },
  {
   "cell_type": "code",
   "execution_count": null,
   "metadata": {},
   "outputs": [],
   "source": [
    "def make_pairs(arr):\n",
    "    ls_pairs = []\n",
    "    len_arr = len(arr)\n",
    "    arr1 = arr[:]\n",
    "    for i in range(len_arr-1):\n",
    "        j  = i+1\n",
    "        while j <= len_arr-1:\n",
    "            ls_pairs.append((arr[i],arr1[j]))\n",
    "            j += 1\n",
    "    return ls_pairs\n",
    "def divisibleSumPairs(n, k, ar):\n",
    "    count = 0\n",
    "    ls_pair = make_pairs(ar)\n",
    "    for pair in ls_pair:\n",
    "        if sum(pair) % k == 0:\n",
    "            count += 1\n",
    "    return count\n",
    "\n",
    "\n",
    "ls = [1, 3, 2, 6, 1, 2] \n",
    "result = divisibleSumPairs(n = 6, k = 3, ar = ls)\n",
    "print(result)    "
   ]
  },
  {
   "cell_type": "markdown",
   "metadata": {},
   "source": [
    "# Making a distinct element arr from a given arr"
   ]
  },
  {
   "cell_type": "code",
   "execution_count": null,
   "metadata": {},
   "outputs": [],
   "source": [
    "def dist_ls(arr):\n",
    "    dist_list = []\n",
    "    len_arr = len(arr)\n",
    "    for i in range(len_arr):\n",
    "        if arr[i] not in dist_list:\n",
    "            dist_list.append(arr[i])\n",
    "    return dist_list"
   ]
  },
  {
   "cell_type": "markdown",
   "metadata": {},
   "source": [
    "# Seperate digits"
   ]
  },
  {
   "cell_type": "code",
   "execution_count": 51,
   "metadata": {},
   "outputs": [
    {
     "name": "stdout",
     "output_type": "stream",
     "text": [
      "[4, 7, 6]\n"
     ]
    }
   ],
   "source": [
    "def seperate_digits(num):\n",
    "    ls_digits = []\n",
    "    s = 1\n",
    "    m = 0\n",
    "    while s != 0:\n",
    "        m = num % 10\n",
    "        ls_digits.append(m)\n",
    "        s = num - m\n",
    "        num = s // 10\n",
    "    \n",
    "    return ls_digits\n",
    "\n",
    "\n",
    "def seperate(num_str):\n",
    "    ls_digits = []\n",
    "    for num in num_str:\n",
    "        type_cast = int(num)\n",
    "        ls_digits.append(type_cast)\n",
    "    \n",
    "    return ls_digits\n",
    "\n",
    "n = \"476\"\n",
    "result = seperate(n)\n",
    "print(result)\n",
    "        "
   ]
  },
  {
   "cell_type": "markdown",
   "metadata": {},
   "source": [
    "# Break records"
   ]
  },
  {
   "cell_type": "code",
   "execution_count": null,
   "metadata": {},
   "outputs": [],
   "source": [
    "def break_highest(arr):\n",
    "    break_record = 0\n",
    "    len_arr = len(arr)\n",
    "    scores = arr[:]\n",
    "    k = 0\n",
    "    for i in range(len_arr):\n",
    "        if arr[i] > scores[k]:\n",
    "            break_record += 1\n",
    "            k = i\n",
    "    return break_record\n",
    "\n",
    "def break_lowest(arr):\n",
    "    break_record = 0\n",
    "    len_arr = len(arr)\n",
    "    scores = arr[:]\n",
    "    l = 0\n",
    "    for i in range(len_arr):\n",
    "        if arr[i] < scores[l]:\n",
    "            break_record += 1\n",
    "            l = i\n",
    "    return break_record\n",
    "\n",
    "\n",
    "def breakingRecords(scores):\n",
    "    high_break = break_highest(scores)\n",
    "    low_break = break_lowest(scores)\n",
    "    return (high_break,low_break)\n",
    "            \n",
    "\n",
    "ls = [3, 4, 21, 36, 10, 28, 35, 5, 24, 42]\n",
    "result = breakingRecords(ls)\n",
    "print(result)"
   ]
  },
  {
   "cell_type": "markdown",
   "metadata": {},
   "source": [
    "# Apple Orange"
   ]
  },
  {
   "cell_type": "code",
   "execution_count": null,
   "metadata": {},
   "outputs": [],
   "source": [
    "def countApplesAndOranges(s, t, a, b, apples, oranges):\n",
    "    ls_apples = []\n",
    "    ls_oranges = []\n",
    "    count_apples = 0\n",
    "    count_oranges = 0\n",
    "    len_apples = len(apples)\n",
    "    len_oranges = len(oranges)\n",
    "    for i in range(len_apples):\n",
    "        home_apple = a + apples[i]\n",
    "        ls_apples.append(home_apple)\n",
    "    for i in range(len_oranges):\n",
    "        home_oranges = b + oranges[i]\n",
    "        ls_oranges.append(home_oranges)\n",
    "    len_actual_apples = len(ls_apples)\n",
    "    len_actual_oranges = len(ls_oranges)\n",
    "    for i in range(len_actual_apples):\n",
    "        if ls_apples[i] in [s,t]:\n",
    "            count_apples += 1\n",
    "    for i in range(len_actual_oranges):\n",
    "        if ls_oranges[i] in [s,t]:\n",
    "            count_oranges += 1\n",
    "    \n",
    "    print(count_apples)\n",
    "    print(count_oranges)"
   ]
  },
  {
   "cell_type": "markdown",
   "metadata": {},
   "source": [
    "# Kangaroo jump"
   ]
  },
  {
   "cell_type": "code",
   "execution_count": null,
   "metadata": {},
   "outputs": [],
   "source": [
    "def kangaroo(x1, v1, x2, v2):\n",
    "    kang_1 = (x1 > x2 and v1 > v2)\n",
    "    kang_2 = (x2 > x1 and v2 > v1)\n",
    "    diff = abs(x1 - x2)\n",
    "    diff_1 = 0\n",
    "    while ((kang_1 == False) and (kang_2 == False)) and (diff_1 < diff):\n",
    "        x1 = x1 + v1\n",
    "        x2 = x2 + v2\n",
    "        diff_1 = abs(x1-x2)\n",
    "        if x1 == x2:\n",
    "            return \"YES\"\n",
    "    else:\n",
    "        return \"NO\"\n",
    "\n",
    "\n",
    "result = kangaroo(21, 6, 47, 3)\n",
    "print(result)"
   ]
  },
  {
   "cell_type": "markdown",
   "metadata": {},
   "source": [
    "# Grading students"
   ]
  },
  {
   "cell_type": "code",
   "execution_count": null,
   "metadata": {},
   "outputs": [],
   "source": [
    "def nextMultiple_5(num):\n",
    "    reminder = num % 5 \n",
    "    if reminder == 0:\n",
    "        return num\n",
    "    elif reminder != 0:\n",
    "        for i in range(num, 101):\n",
    "            if i % 5 == 0:\n",
    "                return (i)\n",
    "\n",
    "def gradingStudents(grades):\n",
    "    final_grade = []\n",
    "    len_grades = len(grades)\n",
    "    for i in range(len_grades):\n",
    "        if grades[i] < 38:\n",
    "            final_grade.append(grades[i])\n",
    "        elif grades[i] >= 38 and grades[i] <= 40:\n",
    "            final_grade.append(40)\n",
    "        elif grades[i] > 40:\n",
    "            no = nextMultiple_5(grades[i])\n",
    "            if no - grades[i] < 3:\n",
    "                final_grade.append(no)\n",
    "            else:\n",
    "                final_grade.append(grades[i])\n",
    "        \n",
    "    return final_grade\n",
    "\n",
    "grades = [75,72,38.24,33,67]\n",
    "result = gradingStudents(grades)\n",
    "print(result)"
   ]
  },
  {
   "cell_type": "markdown",
   "metadata": {},
   "source": [
    "# Project euler problem number 254 implemention through bruet force "
   ]
  },
  {
   "cell_type": "code",
   "execution_count": null,
   "metadata": {},
   "outputs": [],
   "source": [
    "def fact(num):\n",
    "    if num == 0 or num == 1:\n",
    "        return 1\n",
    "    else:\n",
    "        return num * fact(num - 1)\n",
    "    \n",
    "def f(num):\n",
    "    s = 1\n",
    "    summ = 0\n",
    "    m = 0\n",
    "    d = 0\n",
    "    while s != 0:\n",
    "        m = num%10\n",
    "        d = fact(m)\n",
    "        summ = summ + d\n",
    "        s = num - m\n",
    "        num = s // 10\n",
    "    \n",
    "    return summ\n",
    "        \n",
    "        \n",
    "        \n",
    "def s(num):\n",
    "    s = 1\n",
    "    summ = 0\n",
    "    m = 0\n",
    "    while s != 0:\n",
    "        m = num%10\n",
    "        summ = summ + m\n",
    "        s = num - m\n",
    "        num = s // 10\n",
    "    \n",
    "    return summ\n",
    "    \n",
    "        \n",
    "def g(i):\n",
    "    n = 1\n",
    "    t = f(n)\n",
    "    l = s(t)\n",
    "    while l != i:\n",
    "        n += 1\n",
    "        t = f(n)\n",
    "        l = s(t)\n",
    "    \n",
    "    return n\n",
    "\n",
    "for i in range(1,21):\n",
    "    t = g(i)\n",
    "    print(i, t)\n",
    "    \n",
    "        \n",
    "        \n",
    "        \n",
    "    "
   ]
  },
  {
   "cell_type": "markdown",
   "metadata": {},
   "source": [
    "# A very important concept regarding list we can change the global list inside a function before returning value of the function "
   ]
  },
  {
   "cell_type": "code",
   "execution_count": null,
   "metadata": {},
   "outputs": [],
   "source": [
    "def remove_duplicate(n, arr):\n",
    "    new_arr = []\n",
    "    for i in range(n):\n",
    "        if arr[i] not in new_arr:\n",
    "            new_arr.append(arr[i])\n",
    "    \n",
    "    len_new = len(new_arr)\n",
    "    arr[:] = new_arr\n",
    "    \n",
    "    return len_new\n",
    "if __name__ == \"__main__\":\n",
    "    \n",
    "    t = int(input())\n",
    "    for i in range(t):\n",
    "        n = int(input())\n",
    "        arr = list(map(int, input().split()))\n",
    "        n = remove_duplicate(n, arr)\n",
    "        for i in range(n):\n",
    "            print(arr[i], end =\" \")\n",
    "    "
   ]
  },
  {
   "cell_type": "code",
   "execution_count": 1,
   "metadata": {},
   "outputs": [
    {
     "data": {
      "text/plain": [
       "0"
      ]
     },
     "execution_count": 1,
     "metadata": {},
     "output_type": "execute_result"
    }
   ],
   "source": [
    "1//2\n"
   ]
  },
  {
   "cell_type": "code",
   "execution_count": null,
   "metadata": {},
   "outputs": [],
   "source": []
  }
 ],
 "metadata": {
  "kernelspec": {
   "display_name": "Python 3",
   "language": "python",
   "name": "python3"
  },
  "language_info": {
   "codemirror_mode": {
    "name": "ipython",
    "version": 3
   },
   "file_extension": ".py",
   "mimetype": "text/x-python",
   "name": "python",
   "nbconvert_exporter": "python",
   "pygments_lexer": "ipython3",
   "version": "3.8.1"
  }
 },
 "nbformat": 4,
 "nbformat_minor": 4
}
