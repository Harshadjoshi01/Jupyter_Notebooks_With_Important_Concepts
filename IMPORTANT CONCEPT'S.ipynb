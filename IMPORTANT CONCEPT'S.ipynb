{
 "cells": [
  {
   "cell_type": "markdown",
   "metadata": {},
   "source": [
    "# < < < < < < < < < < Taking multiple inputs from user > > > > > > > > > > > > > > "
   ]
  },
  {
   "cell_type": "markdown",
   "metadata": {},
   "source": [
    "# 1 Using functions input, map,"
   ]
  },
  {
   "cell_type": "code",
   "execution_count": null,
   "metadata": {},
   "outputs": [],
   "source": [
    "x, y, z = input(\"Enter a three value: \").split() \n",
    "print(\"Total number of students: \", x) \n",
    "print(\"Number of boys is : \", y) \n",
    "print(\"Number of girls is : \", z) \n",
    "print() "
   ]
  },
  {
   "cell_type": "code",
   "execution_count": null,
   "metadata": {},
   "outputs": [],
   "source": [
    "# taking multiple inputs at a time  \n",
    "# and type casting using list() function \n",
    "x = list(map(int, input(\"Enter a multiple value: \").split())) \n",
    "print(\"List of students: \", x) "
   ]
  },
  {
   "cell_type": "markdown",
   "metadata": {},
   "source": [
    "# 2 Using List Comprihansion"
   ]
  },
  {
   "cell_type": "code",
   "execution_count": null,
   "metadata": {},
   "outputs": [],
   "source": [
    "# taking three input at a time \n",
    "x, y, z = [int(x) for x in input(\"Enter three value: \").split()] \n",
    "print(\"First Number is: \", x) \n",
    "print(\"Second Number is: \", y) \n",
    "print(\"Third Number is: \", z) \n",
    "print() "
   ]
  },
  {
   "cell_type": "code",
   "execution_count": null,
   "metadata": {},
   "outputs": [],
   "source": [
    "# taking multiple inputs at a time  \n",
    "x = [int(x) for x in input(\"Enter multiple value: \").split()] \n",
    "print(\"Number of list is: \", x)  "
   ]
  },
  {
   "cell_type": "markdown",
   "metadata": {},
   "source": [
    "# The above examples take input separated by spaces. In case we wish to take input separated by comma (, ), we can use following:"
   ]
  },
  {
   "cell_type": "code",
   "execution_count": null,
   "metadata": {},
   "outputs": [],
   "source": [
    "# taking multiple inputs at a time separated by comma \n",
    "x = [int(x) for x in input(\"Enter multiple value: \").split(\",\")] \n",
    "print(\"Number of list is: \", x) \n"
   ]
  },
  {
   "cell_type": "markdown",
   "metadata": {},
   "source": [
    "# Using print function with end  and sep keyword"
   ]
  },
  {
   "cell_type": "code",
   "execution_count": null,
   "metadata": {},
   "outputs": [],
   "source": [
    "# Python 3 code for printing \n",
    "# on the same line printing \n",
    "# geeks and geeksforgeeks \n",
    "# in the same line \n",
    "\n",
    "print(\"geeks\", end =\" \") \n",
    "print(\"geeksforgeeks\") \n",
    "\n",
    "# array \n",
    "a = [1, 2, 3, 4] \n",
    "\n",
    "# printing a element in same \n",
    "# line \n",
    "for i in range(4): \n",
    "\tprint(a[i], end =\" \") \n"
   ]
  },
  {
   "cell_type": "code",
   "execution_count": null,
   "metadata": {},
   "outputs": [],
   "source": [
    "#code for disabling the softspace feature \n",
    "print('G','F','G', sep='') \n",
    "\n",
    "#for formatting a date \n",
    "print('09','12','2016', sep='-') \n",
    "\n",
    "#another example \n",
    "print('pratik','geeksforgeeks', sep='@') \n"
   ]
  },
  {
   "cell_type": "code",
   "execution_count": null,
   "metadata": {},
   "outputs": [],
   "source": [
    "print('G','F', sep='', end='') \n",
    "print('G') \n",
    "#\\n provides new line after printing the year \n",
    "print('09','12', sep='-', end='\\n') \n",
    "\n",
    "print('prtk','agarwal', sep='', end='@') \n",
    "print('geeksforgeeks') \n"
   ]
  },
  {
   "cell_type": "markdown",
   "metadata": {},
   "source": [
    "# FORMATING OF STRING"
   ]
  },
  {
   "cell_type": "code",
   "execution_count": 1,
   "metadata": {},
   "outputs": [
    {
     "data": {
      "text/plain": [
       "'Strings in Python can be formatted with the use of format() method which is very versatile and powerful tool for formatting \\nof Strings. Format method in String contains curly braces {} as placeholders which can hold arguments according to position \\nor keyword to specify the order.'"
      ]
     },
     "execution_count": 1,
     "metadata": {},
     "output_type": "execute_result"
    }
   ],
   "source": [
    "'''Strings in Python can be formatted with the use of format() method which is very versatile and powerful tool for formatting \n",
    "of Strings. Format method in String contains curly braces {} as placeholders which can hold arguments according to position \n",
    "or keyword to specify the order.'''\n",
    "# 1 Using f-string method \n",
    "# 2 Using {} and .format method\n",
    "# 3 Using % operator ---> %d = intiger, %f = float, %r = raw string, %s = string, %h = hexadecimal, %o = octalnum\n",
    "# 4 Using Template method in String module "
   ]
  },
  {
   "cell_type": "code",
   "execution_count": null,
   "metadata": {},
   "outputs": [],
   "source": [
    "# Python Program for \n",
    "# Formatting of Strings \n",
    "\n",
    "# Default order \n",
    "String1 = \"{} {} {}\".format('Geeks', 'For', 'Life') \n",
    "print(\"Print String in default order: \") \n",
    "print(String1) \n",
    "\n",
    "# Positional Formatting \n",
    "String1 = \"{1} {0} {2}\".format('Geeks', 'For', 'Life') \n",
    "print(\"\\nPrint String in Positional order: \") \n",
    "print(String1) \n",
    "\n",
    "# Keyword Formatting \n",
    "String1 = \"{l} {f} {g}\".format(g = 'Geeks', f = 'For', l = 'Life') \n",
    "print(\"\\nPrint String in order of Keywords: \") \n",
    "print(String1) \n"
   ]
  },
  {
   "cell_type": "code",
   "execution_count": null,
   "metadata": {},
   "outputs": [],
   "source": [
    "# Formatting of Integers \n",
    "String1 = \"{0:b}\".format(16) \n",
    "print(\"\\nBinary representation of 16 is \") \n",
    "print(String1) \n",
    "\n",
    "# Formatting of Floats \n",
    "String1 = \"{0:e}\".format(165.6458) \n",
    "print(\"\\nExponent representation of 165.6458 is \") \n",
    "print(String1) \n",
    "\n",
    "# Rounding off Integers \n",
    "String1 = \"{0:.2f}\".format(1/6) \n",
    "print(\"\\none-sixth is : \") \n",
    "print(String1) \n"
   ]
  },
  {
   "cell_type": "code",
   "execution_count": null,
   "metadata": {},
   "outputs": [],
   "source": [
    "# Python program to demonstrate the use of formatting using % \n",
    "\n",
    "# Initialize variable as a string \n",
    "variable = '15'\n",
    "string = \"Variable as string = %s\" %(variable) \n",
    "print string \n",
    "\n",
    "# Printing as raw data \n",
    "# Thanks to Himanshu Pant for this \n",
    "print \"Variable as raw data = %r\" %(variable) \n",
    "\n",
    "# Convert the variable to integer \n",
    "# And perform check other formatting options \n",
    "\n",
    "variable = int(variable) # Without this the below statement \n",
    "\t\t\t\t\t\t# will give error. \n",
    "string = \"Variable as integer = %d\" %(variable) \n",
    "print string \n",
    "print \"Variable as float = %f\" %(variable) \n",
    "\n",
    "# printing as any string or char after a mark \n",
    "# here i use mayank as a string \n",
    "print \"Variable as printing with special char = %cmayank\" %(variable) \n",
    "\n",
    "print \"Variable as hexadecimal = %x\" %(variable) \n",
    "print \"Variable as octal = %o\" %(variable) \n"
   ]
  },
  {
   "cell_type": "code",
   "execution_count": null,
   "metadata": {},
   "outputs": [],
   "source": [
    "# A Simple Python templaye example \n",
    "from string import Template \n",
    "\n",
    "# Create a template that has placeholder for value of x \n",
    "t = Template('x is $x') \n",
    "\n",
    "# Substitute value of x in above template \n",
    "print (t.substitute({'x' : 1})) \n"
   ]
  },
  {
   "cell_type": "code",
   "execution_count": null,
   "metadata": {},
   "outputs": [],
   "source": [
    "# A Python program to demonstrate working of string template \n",
    "from string import Template \n",
    "\n",
    "# List Student stores the name and marks of three students \n",
    "Student = [('Ram',90), ('Ankit',78), ('Bob',92)] \n",
    "\n",
    "# We are creating a basic structure to print the name and \n",
    "# marks of the students. \n",
    "t = Template('Hi $name, you have got $marks marks') \n",
    "\n",
    "for i in Student: \n",
    "\tprint (t.substitute(name = i[0], marks = i[1])) \n"
   ]
  },
  {
   "cell_type": "markdown",
   "metadata": {},
   "source": [
    "# Docstrings in python"
   ]
  },
  {
   "cell_type": "code",
   "execution_count": null,
   "metadata": {},
   "outputs": [],
   "source": [
    "def my_function(): \n",
    "\t'''Demonstrates triple double quotes \n",
    "\tdocstrings and does nothing really.'''\n",
    "\n",
    "\treturn None\n",
    "\n",
    "print(\"Using __doc__:\") \n",
    "print(my_function.__doc__) \n",
    "\n",
    "print(\"Using help:\") \n",
    "help(my_function) \n"
   ]
  },
  {
   "cell_type": "markdown",
   "metadata": {},
   "source": [
    "# COUNTER CLASS IN COLLECTIONS MODULE IS USEFULL     "
   ]
  },
  {
   "cell_type": "code",
   "execution_count": 16,
   "metadata": {},
   "outputs": [
    {
     "name": "stdout",
     "output_type": "stream",
     "text": [
      "g g e e e e k k s s f o r "
     ]
    }
   ],
   "source": [
    "#1: Working of elements() on a simple data container\n",
    "# import counter class from collections module \n",
    "from collections import Counter \n",
    "\n",
    "# Creation of a Counter Class object using \n",
    "# string as an iterable data container \n",
    "x = Counter(\"geeksforgeeks\") \n",
    "\n",
    "# printing the elements of counter object \n",
    "for i in x.elements(): \n",
    "\tprint ( i, end = \" \") \n"
   ]
  },
  {
   "cell_type": "code",
   "execution_count": null,
   "metadata": {},
   "outputs": [],
   "source": [
    "#2: Elements on a variety of Counter Objects with different data-containers\n",
    "# import counter class from collections module \n",
    "from collections import Counter \n",
    "\n",
    "# Creation of a Counter Class object using \n",
    "# a string as an iterable data container \n",
    "# Example - 1 \n",
    "a = Counter(\"geeksforgeeks\") \n",
    "\n",
    "# Elements of counter object \n",
    "for i in a.elements(): \n",
    "\tprint ( i, end = \" \") \n",
    "print() \n",
    "\t\n",
    "# Example - 2 \n",
    "b = Counter({'geeks' : 4, 'for' : 1, \n",
    "\t\t\t'gfg' : 2, 'python' : 3}) \n",
    "\n",
    "for i in b.elements(): \n",
    "\tprint ( i, end = \" \") \n",
    "print() \n",
    "\n",
    "# Example - 3 \n",
    "c = Counter([1, 2, 21, 12, 2, 44, 5, \n",
    "\t\t\t13, 15, 5, 19, 21, 5]) \n",
    "\n",
    "for i in c.elements(): \n",
    "\tprint ( i, end = \" \") \n",
    "print()\t\t\t \n",
    "\t\t\t\t\n",
    "# Example - 4 \n",
    "d = Counter( a = 2, b = 3, c = 6, d = 1, e = 5) \n",
    "\n",
    "for i in d.elements(): \n",
    "\tprint ( i, end = \" \") \n"
   ]
  },
  {
   "cell_type": "code",
   "execution_count": null,
   "metadata": {},
   "outputs": [],
   "source": [
    "#3: To demonstrate what elements() return when it is printed directly\n",
    "# import Counter from collections \n",
    "from collections import Counter \n",
    "\n",
    "# creating a raw data-set \n",
    "x = Counter (\"geeksforgeeks\") \n",
    "\n",
    "# will return a itertools chain object \n",
    "# which is basically a pseudo iterable container whose \n",
    "# elements can be used when called with a iterable tool \n",
    "print(x.elements()) "
   ]
  },
  {
   "cell_type": "code",
   "execution_count": null,
   "metadata": {},
   "outputs": [],
   "source": [
    "#4: When the count of an item in Counter is intialised with negative values or zero.\n",
    "# import Counter from collections \n",
    "from collections import Counter \n",
    "\n",
    "# creating a raw data-set using keyword arguments \n",
    "x = Counter (a = 2, x = 3, b = 3, z = 1, y = 5, c = 0, d = -3) \n",
    "\n",
    "# printing out the elements \n",
    "for i in x.elements(): \n",
    "\tprint( \"% s : % s\" % (i, x[i]), end =\"\\n\") \n",
    "\"\"\"Note: We can infer from the output that items with values less than 1 are omitted by elements().\"\"\""
   ]
  },
  {
   "cell_type": "markdown",
   "metadata": {},
   "source": [
    "# Python – Counter.items(), Counter.keys() and Counter.values()"
   ]
  },
  {
   "cell_type": "code",
   "execution_count": null,
   "metadata": {},
   "outputs": [],
   "source": [
    "# importing the module \n",
    "from collections import Counter \n",
    "\n",
    "# making a list \n",
    "list = [1, 1, 2, 3, 4, 5, \n",
    "\t\t6, 7, 9, 2, 3, 4, 8] \n",
    "\n",
    "# instatiating a Counter object \n",
    "ob = Counter(list) \n",
    "\n",
    "# Counter.items() \n",
    "items = ob.items() \n",
    "\n",
    "print(\"The datatype is \"\n",
    "\t+ str(type(items))) \n",
    "\n",
    "# displaying the dict_items \n",
    "print(items) \n",
    "\n",
    "# iterating over the dict_items \n",
    "for i in items: \n",
    "\tprint(i) \n"
   ]
  },
  {
   "cell_type": "code",
   "execution_count": null,
   "metadata": {},
   "outputs": [],
   "source": [
    "# importing the module \n",
    "from collections import Counter \n",
    "\n",
    "# making a list \n",
    "list = [1, 1, 2, 3, 4, 5, \n",
    "\t\t6, 7, 9, 2, 3, 4, 8] \n",
    "\n",
    "# instatiating a Counter object \n",
    "ob = Counter(list) \n",
    "\n",
    "# Counter.keys() \n",
    "keys = ob.keys() \n",
    "\n",
    "print(\"The datatype is \"\n",
    "\t+ str(type(keys))) \n",
    "\n",
    "# displaying the dict_items \n",
    "print(keys) \n",
    "\n",
    "# iterating over the dict_items \n",
    "for i in keys: \n",
    "\tprint(i) \n"
   ]
  },
  {
   "cell_type": "code",
   "execution_count": null,
   "metadata": {},
   "outputs": [],
   "source": [
    "# importing the module \n",
    "from collections import Counter \n",
    "\n",
    "# making a list \n",
    "list = [1, 1, 2, 3, 4, 5, \n",
    "\t\t6, 7, 9, 2, 3, 4, 8] \n",
    "\n",
    "# instatiating a Counter object \n",
    "ob = Counter(list) \n",
    "\n",
    "# Counter.values() \n",
    "values = ob.values() \n",
    "\n",
    "print(\"The datatype is \"\n",
    "\t+ str(type(values))) \n",
    "\n",
    "# displaying the dict_items \n",
    "print(values) \n",
    "\n",
    "# iterating over the dict_items \n",
    "for i in values: \n",
    "\tprint(i) \n"
   ]
  }
 ],
 "metadata": {
  "kernelspec": {
   "display_name": "Python 3 (ipykernel)",
   "language": "python",
   "name": "python3"
  },
  "language_info": {
   "codemirror_mode": {
    "name": "ipython",
    "version": 3
   },
   "file_extension": ".py",
   "mimetype": "text/x-python",
   "name": "python",
   "nbconvert_exporter": "python",
   "pygments_lexer": "ipython3",
   "version": "3.10.4"
  }
 },
 "nbformat": 4,
 "nbformat_minor": 4
}
